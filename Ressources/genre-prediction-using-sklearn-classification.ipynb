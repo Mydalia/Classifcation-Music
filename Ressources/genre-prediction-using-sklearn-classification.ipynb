{
 "cells": [
  {
   "cell_type": "markdown",
   "metadata": {
    "papermill": {
     "duration": 0.020424,
     "end_time": "2021-01-13T14:45:41.859113",
     "exception": false,
     "start_time": "2021-01-13T14:45:41.838689",
     "status": "completed"
    },
    "tags": []
   },
   "source": [
    "# Predicting song's genre using ML\n",
    "* Problem definition - check several classification models and try to achieve best accuracy in prediction genre of a song from data provided\n",
    "* Data - Data has been obtained from Kaggle: https://www.kaggle.com/mrmorj/dataset-of-songs-in-spotify\n",
    "* Evaluation - try several models and reach the best possible accuracy\n",
    "* Features - data consists of several features such as danceability, energy, key, loudness, mode in numerical format and other categorical features.\n",
    "* Modelling - we will try K-Nearest Neigbors, Random Forest and Logistic Regression model for evaluation\n",
    "* Experimentation - this section will involve fine tuning some of the hyperparameters to see if we can improve the accuracy"
   ]
  },
  {
   "cell_type": "markdown",
   "metadata": {
    "_cell_guid": "79c7e3d0-c299-4dcb-8224-4455121ee9b0",
    "_uuid": "d629ff2d2480ee46fbb7e2d37f6b5fab8052498a",
    "collapsed": true,
    "papermill": {
     "duration": 0.019486,
     "end_time": "2021-01-13T14:45:41.897693",
     "exception": false,
     "start_time": "2021-01-13T14:45:41.878207",
     "status": "completed"
    },
    "tags": []
   },
   "source": [
    "Preparing the tools\n",
    "Pandas,Matplotlib, and Numpy for data analysis and manipulation"
   ]
  },
  {
   "cell_type": "code",
   "execution_count": 41,
   "metadata": {
    "execution": {
     "iopub.execute_input": "2021-01-13T14:45:41.945239Z",
     "iopub.status.busy": "2021-01-13T14:45:41.944629Z",
     "iopub.status.idle": "2021-01-13T14:45:43.167197Z",
     "shell.execute_reply": "2021-01-13T14:45:43.166540Z"
    },
    "papermill": {
     "duration": 1.250227,
     "end_time": "2021-01-13T14:45:43.167315",
     "exception": false,
     "start_time": "2021-01-13T14:45:41.917088",
     "status": "completed"
    },
    "tags": []
   },
   "outputs": [],
   "source": [
    "#Import EDA (exploratory data analysis) and plotting library\n",
    "import numpy as np\n",
    "import pandas as pd\n",
    "import matplotlib.pyplot as plt\n",
    "import seaborn as sns\n",
    "%matplotlib inline \n",
    "#Import models\n",
    "from sklearn.linear_model import LogisticRegression\n",
    "from sklearn.neighbors import KNeighborsClassifier\n",
    "from sklearn.ensemble import RandomForestClassifier\n",
    "#Model evaluation\n",
    "from sklearn.model_selection import train_test_split\n",
    "from sklearn.model_selection import RandomizedSearchCV, GridSearchCV\n",
    "from sklearn.metrics import confusion_matrix, classification_report\n",
    "from sklearn.metrics import precision_score, recall_score,f1_score\n",
    "from sklearn.metrics import plot_roc_curve"
   ]
  },
  {
   "cell_type": "markdown",
   "metadata": {
    "papermill": {
     "duration": 0.019221,
     "end_time": "2021-01-13T14:45:43.206362",
     "exception": false,
     "start_time": "2021-01-13T14:45:43.187141",
     "status": "completed"
    },
    "tags": []
   },
   "source": [
    "## Load data"
   ]
  },
  {
   "cell_type": "code",
   "execution_count": 42,
   "metadata": {
    "execution": {
     "iopub.execute_input": "2021-01-13T14:45:43.258390Z",
     "iopub.status.busy": "2021-01-13T14:45:43.257803Z",
     "iopub.status.idle": "2021-01-13T14:45:43.842531Z",
     "shell.execute_reply": "2021-01-13T14:45:43.842073Z"
    },
    "papermill": {
     "duration": 0.616525,
     "end_time": "2021-01-13T14:45:43.842667",
     "exception": false,
     "start_time": "2021-01-13T14:45:43.226142",
     "status": "completed"
    },
    "tags": []
   },
   "outputs": [
    {
     "data": {
      "text/html": [
       "<div>\n",
       "<style scoped>\n",
       "    .dataframe tbody tr th:only-of-type {\n",
       "        vertical-align: middle;\n",
       "    }\n",
       "\n",
       "    .dataframe tbody tr th {\n",
       "        vertical-align: top;\n",
       "    }\n",
       "\n",
       "    .dataframe thead th {\n",
       "        text-align: right;\n",
       "    }\n",
       "</style>\n",
       "<table border=\"1\" class=\"dataframe\">\n",
       "  <thead>\n",
       "    <tr style=\"text-align: right;\">\n",
       "      <th></th>\n",
       "      <th>Genre</th>\n",
       "      <th>Title</th>\n",
       "      <th>Album_cover_link</th>\n",
       "      <th>Artist</th>\n",
       "      <th>duration_ms</th>\n",
       "      <th>explicit</th>\n",
       "      <th>id</th>\n",
       "      <th>popularity</th>\n",
       "      <th>release_date</th>\n",
       "      <th>release_date_precision</th>\n",
       "      <th>...</th>\n",
       "      <th>key</th>\n",
       "      <th>loudness</th>\n",
       "      <th>mode</th>\n",
       "      <th>speechiness</th>\n",
       "      <th>acousticness</th>\n",
       "      <th>instrumentalness</th>\n",
       "      <th>liveness</th>\n",
       "      <th>valence</th>\n",
       "      <th>tempo</th>\n",
       "      <th>time_signature</th>\n",
       "    </tr>\n",
       "  </thead>\n",
       "  <tbody>\n",
       "    <tr>\n",
       "      <th>0</th>\n",
       "      <td>rock</td>\n",
       "      <td>Baba O'Riley</td>\n",
       "      <td>https://i.scdn.co/image/ab67616d0000b273fe24dc...</td>\n",
       "      <td>The Who</td>\n",
       "      <td>300400</td>\n",
       "      <td>False</td>\n",
       "      <td>3qiyyUfYe7CRYLucrPmulD</td>\n",
       "      <td>75</td>\n",
       "      <td>1971-08-14</td>\n",
       "      <td>day</td>\n",
       "      <td>...</td>\n",
       "      <td>5</td>\n",
       "      <td>-8.367</td>\n",
       "      <td>1</td>\n",
       "      <td>0.0352</td>\n",
       "      <td>0.31300</td>\n",
       "      <td>0.185000</td>\n",
       "      <td>0.2870</td>\n",
       "      <td>0.150</td>\n",
       "      <td>117.292</td>\n",
       "      <td>4</td>\n",
       "    </tr>\n",
       "    <tr>\n",
       "      <th>1</th>\n",
       "      <td>rock</td>\n",
       "      <td>More Than a Feeling</td>\n",
       "      <td>https://i.scdn.co/image/ab67616d0000b27390ef97...</td>\n",
       "      <td>Boston</td>\n",
       "      <td>285133</td>\n",
       "      <td>False</td>\n",
       "      <td>1QEEqeFIZktqIpPI4jSVSF</td>\n",
       "      <td>78</td>\n",
       "      <td>1976</td>\n",
       "      <td>year</td>\n",
       "      <td>...</td>\n",
       "      <td>7</td>\n",
       "      <td>-8.039</td>\n",
       "      <td>1</td>\n",
       "      <td>0.0298</td>\n",
       "      <td>0.00088</td>\n",
       "      <td>0.002300</td>\n",
       "      <td>0.0504</td>\n",
       "      <td>0.285</td>\n",
       "      <td>108.789</td>\n",
       "      <td>4</td>\n",
       "    </tr>\n",
       "    <tr>\n",
       "      <th>2</th>\n",
       "      <td>rock</td>\n",
       "      <td>(Don't Fear) The Reaper</td>\n",
       "      <td>https://i.scdn.co/image/ab67616d0000b2733ac318...</td>\n",
       "      <td>Blue Öyster Cult</td>\n",
       "      <td>308120</td>\n",
       "      <td>False</td>\n",
       "      <td>5QTxFnGygVM4jFQiBovmRo</td>\n",
       "      <td>76</td>\n",
       "      <td>1976</td>\n",
       "      <td>year</td>\n",
       "      <td>...</td>\n",
       "      <td>9</td>\n",
       "      <td>-8.550</td>\n",
       "      <td>0</td>\n",
       "      <td>0.0733</td>\n",
       "      <td>0.00290</td>\n",
       "      <td>0.000208</td>\n",
       "      <td>0.2970</td>\n",
       "      <td>0.385</td>\n",
       "      <td>141.466</td>\n",
       "      <td>4</td>\n",
       "    </tr>\n",
       "    <tr>\n",
       "      <th>3</th>\n",
       "      <td>rock</td>\n",
       "      <td>Jump - 2015 Remaster</td>\n",
       "      <td>https://i.scdn.co/image/ab67616d0000b273b414c6...</td>\n",
       "      <td>Van Halen</td>\n",
       "      <td>241599</td>\n",
       "      <td>False</td>\n",
       "      <td>7N3PAbqfTjSEU1edb2tY8j</td>\n",
       "      <td>78</td>\n",
       "      <td>1984-01-04</td>\n",
       "      <td>day</td>\n",
       "      <td>...</td>\n",
       "      <td>0</td>\n",
       "      <td>-6.219</td>\n",
       "      <td>1</td>\n",
       "      <td>0.0317</td>\n",
       "      <td>0.17100</td>\n",
       "      <td>0.000377</td>\n",
       "      <td>0.0702</td>\n",
       "      <td>0.795</td>\n",
       "      <td>129.981</td>\n",
       "      <td>4</td>\n",
       "    </tr>\n",
       "    <tr>\n",
       "      <th>4</th>\n",
       "      <td>rock</td>\n",
       "      <td>Stairway to Heaven - Remaster</td>\n",
       "      <td>https://i.scdn.co/image/ab67616d0000b273c8a11e...</td>\n",
       "      <td>Led Zeppelin</td>\n",
       "      <td>482830</td>\n",
       "      <td>False</td>\n",
       "      <td>5CQ30WqJwcep0pYcV4AMNc</td>\n",
       "      <td>79</td>\n",
       "      <td>1971-11-08</td>\n",
       "      <td>day</td>\n",
       "      <td>...</td>\n",
       "      <td>9</td>\n",
       "      <td>-12.049</td>\n",
       "      <td>0</td>\n",
       "      <td>0.0339</td>\n",
       "      <td>0.58000</td>\n",
       "      <td>0.003200</td>\n",
       "      <td>0.1160</td>\n",
       "      <td>0.197</td>\n",
       "      <td>82.433</td>\n",
       "      <td>4</td>\n",
       "    </tr>\n",
       "  </tbody>\n",
       "</table>\n",
       "<p>5 rows × 23 columns</p>\n",
       "</div>"
      ],
      "text/plain": [
       "  Genre                          Title  \\\n",
       "0  rock                   Baba O'Riley   \n",
       "1  rock            More Than a Feeling   \n",
       "2  rock        (Don't Fear) The Reaper   \n",
       "3  rock           Jump - 2015 Remaster   \n",
       "4  rock  Stairway to Heaven - Remaster   \n",
       "\n",
       "                                    Album_cover_link            Artist  \\\n",
       "0  https://i.scdn.co/image/ab67616d0000b273fe24dc...           The Who   \n",
       "1  https://i.scdn.co/image/ab67616d0000b27390ef97...            Boston   \n",
       "2  https://i.scdn.co/image/ab67616d0000b2733ac318...  Blue Öyster Cult   \n",
       "3  https://i.scdn.co/image/ab67616d0000b273b414c6...         Van Halen   \n",
       "4  https://i.scdn.co/image/ab67616d0000b273c8a11e...      Led Zeppelin   \n",
       "\n",
       "   duration_ms  explicit                      id  popularity release_date  \\\n",
       "0       300400     False  3qiyyUfYe7CRYLucrPmulD          75   1971-08-14   \n",
       "1       285133     False  1QEEqeFIZktqIpPI4jSVSF          78         1976   \n",
       "2       308120     False  5QTxFnGygVM4jFQiBovmRo          76         1976   \n",
       "3       241599     False  7N3PAbqfTjSEU1edb2tY8j          78   1984-01-04   \n",
       "4       482830     False  5CQ30WqJwcep0pYcV4AMNc          79   1971-11-08   \n",
       "\n",
       "  release_date_precision  ...  key  loudness  mode  speechiness  acousticness  \\\n",
       "0                    day  ...    5    -8.367     1       0.0352       0.31300   \n",
       "1                   year  ...    7    -8.039     1       0.0298       0.00088   \n",
       "2                   year  ...    9    -8.550     0       0.0733       0.00290   \n",
       "3                    day  ...    0    -6.219     1       0.0317       0.17100   \n",
       "4                    day  ...    9   -12.049     0       0.0339       0.58000   \n",
       "\n",
       "   instrumentalness  liveness  valence    tempo  time_signature  \n",
       "0          0.185000    0.2870    0.150  117.292               4  \n",
       "1          0.002300    0.0504    0.285  108.789               4  \n",
       "2          0.000208    0.2970    0.385  141.466               4  \n",
       "3          0.000377    0.0702    0.795  129.981               4  \n",
       "4          0.003200    0.1160    0.197   82.433               4  \n",
       "\n",
       "[5 rows x 23 columns]"
      ]
     },
     "execution_count": 42,
     "metadata": {},
     "output_type": "execute_result"
    }
   ],
   "source": [
    "data= pd.read_excel(\"spotify_genre_final.xlsx\")\n",
    "data.head()"
   ]
  },
  {
   "cell_type": "code",
   "execution_count": 43,
   "metadata": {
    "execution": {
     "iopub.execute_input": "2021-01-13T14:45:43.889409Z",
     "iopub.status.busy": "2021-01-13T14:45:43.888846Z",
     "iopub.status.idle": "2021-01-13T14:45:43.891825Z",
     "shell.execute_reply": "2021-01-13T14:45:43.892259Z"
    },
    "papermill": {
     "duration": 0.028945,
     "end_time": "2021-01-13T14:45:43.892386",
     "exception": false,
     "start_time": "2021-01-13T14:45:43.863441",
     "status": "completed"
    },
    "tags": []
   },
   "outputs": [
    {
     "data": {
      "text/plain": [
       "(6917, 23)"
      ]
     },
     "execution_count": 43,
     "metadata": {},
     "output_type": "execute_result"
    }
   ],
   "source": [
    "#Check the number of rows and columns\n",
    "data.shape"
   ]
  },
  {
   "cell_type": "code",
   "execution_count": 44,
   "metadata": {
    "execution": {
     "iopub.execute_input": "2021-01-13T14:45:43.937082Z",
     "iopub.status.busy": "2021-01-13T14:45:43.936432Z",
     "iopub.status.idle": "2021-01-13T14:45:43.952318Z",
     "shell.execute_reply": "2021-01-13T14:45:43.951826Z"
    },
    "papermill": {
     "duration": 0.039308,
     "end_time": "2021-01-13T14:45:43.952420",
     "exception": false,
     "start_time": "2021-01-13T14:45:43.913112",
     "status": "completed"
    },
    "tags": []
   },
   "outputs": [
    {
     "data": {
      "text/html": [
       "<div>\n",
       "<style scoped>\n",
       "    .dataframe tbody tr th:only-of-type {\n",
       "        vertical-align: middle;\n",
       "    }\n",
       "\n",
       "    .dataframe tbody tr th {\n",
       "        vertical-align: top;\n",
       "    }\n",
       "\n",
       "    .dataframe thead th {\n",
       "        text-align: right;\n",
       "    }\n",
       "</style>\n",
       "<table border=\"1\" class=\"dataframe\">\n",
       "  <thead>\n",
       "    <tr style=\"text-align: right;\">\n",
       "      <th></th>\n",
       "      <th>0</th>\n",
       "      <th>1</th>\n",
       "      <th>2</th>\n",
       "      <th>3</th>\n",
       "      <th>4</th>\n",
       "    </tr>\n",
       "  </thead>\n",
       "  <tbody>\n",
       "    <tr>\n",
       "      <th>Genre</th>\n",
       "      <td>rock</td>\n",
       "      <td>rock</td>\n",
       "      <td>rock</td>\n",
       "      <td>rock</td>\n",
       "      <td>rock</td>\n",
       "    </tr>\n",
       "    <tr>\n",
       "      <th>Title</th>\n",
       "      <td>Baba O'Riley</td>\n",
       "      <td>More Than a Feeling</td>\n",
       "      <td>(Don't Fear) The Reaper</td>\n",
       "      <td>Jump - 2015 Remaster</td>\n",
       "      <td>Stairway to Heaven - Remaster</td>\n",
       "    </tr>\n",
       "    <tr>\n",
       "      <th>Album_cover_link</th>\n",
       "      <td>https://i.scdn.co/image/ab67616d0000b273fe24dc...</td>\n",
       "      <td>https://i.scdn.co/image/ab67616d0000b27390ef97...</td>\n",
       "      <td>https://i.scdn.co/image/ab67616d0000b2733ac318...</td>\n",
       "      <td>https://i.scdn.co/image/ab67616d0000b273b414c6...</td>\n",
       "      <td>https://i.scdn.co/image/ab67616d0000b273c8a11e...</td>\n",
       "    </tr>\n",
       "    <tr>\n",
       "      <th>Artist</th>\n",
       "      <td>The Who</td>\n",
       "      <td>Boston</td>\n",
       "      <td>Blue Öyster Cult</td>\n",
       "      <td>Van Halen</td>\n",
       "      <td>Led Zeppelin</td>\n",
       "    </tr>\n",
       "    <tr>\n",
       "      <th>duration_ms</th>\n",
       "      <td>300400</td>\n",
       "      <td>285133</td>\n",
       "      <td>308120</td>\n",
       "      <td>241599</td>\n",
       "      <td>482830</td>\n",
       "    </tr>\n",
       "    <tr>\n",
       "      <th>explicit</th>\n",
       "      <td>False</td>\n",
       "      <td>False</td>\n",
       "      <td>False</td>\n",
       "      <td>False</td>\n",
       "      <td>False</td>\n",
       "    </tr>\n",
       "    <tr>\n",
       "      <th>id</th>\n",
       "      <td>3qiyyUfYe7CRYLucrPmulD</td>\n",
       "      <td>1QEEqeFIZktqIpPI4jSVSF</td>\n",
       "      <td>5QTxFnGygVM4jFQiBovmRo</td>\n",
       "      <td>7N3PAbqfTjSEU1edb2tY8j</td>\n",
       "      <td>5CQ30WqJwcep0pYcV4AMNc</td>\n",
       "    </tr>\n",
       "    <tr>\n",
       "      <th>popularity</th>\n",
       "      <td>75</td>\n",
       "      <td>78</td>\n",
       "      <td>76</td>\n",
       "      <td>78</td>\n",
       "      <td>79</td>\n",
       "    </tr>\n",
       "    <tr>\n",
       "      <th>release_date</th>\n",
       "      <td>1971-08-14</td>\n",
       "      <td>1976</td>\n",
       "      <td>1976</td>\n",
       "      <td>1984-01-04</td>\n",
       "      <td>1971-11-08</td>\n",
       "    </tr>\n",
       "    <tr>\n",
       "      <th>release_date_precision</th>\n",
       "      <td>day</td>\n",
       "      <td>year</td>\n",
       "      <td>year</td>\n",
       "      <td>day</td>\n",
       "      <td>day</td>\n",
       "    </tr>\n",
       "    <tr>\n",
       "      <th>total_tracks</th>\n",
       "      <td>29</td>\n",
       "      <td>8</td>\n",
       "      <td>10</td>\n",
       "      <td>9</td>\n",
       "      <td>16</td>\n",
       "    </tr>\n",
       "    <tr>\n",
       "      <th>danceability</th>\n",
       "      <td>0.489</td>\n",
       "      <td>0.377</td>\n",
       "      <td>0.333</td>\n",
       "      <td>0.572</td>\n",
       "      <td>0.338</td>\n",
       "    </tr>\n",
       "    <tr>\n",
       "      <th>energy</th>\n",
       "      <td>0.724</td>\n",
       "      <td>0.681</td>\n",
       "      <td>0.927</td>\n",
       "      <td>0.835</td>\n",
       "      <td>0.34</td>\n",
       "    </tr>\n",
       "    <tr>\n",
       "      <th>key</th>\n",
       "      <td>5</td>\n",
       "      <td>7</td>\n",
       "      <td>9</td>\n",
       "      <td>0</td>\n",
       "      <td>9</td>\n",
       "    </tr>\n",
       "    <tr>\n",
       "      <th>loudness</th>\n",
       "      <td>-8.367</td>\n",
       "      <td>-8.039</td>\n",
       "      <td>-8.55</td>\n",
       "      <td>-6.219</td>\n",
       "      <td>-12.049</td>\n",
       "    </tr>\n",
       "    <tr>\n",
       "      <th>mode</th>\n",
       "      <td>1</td>\n",
       "      <td>1</td>\n",
       "      <td>0</td>\n",
       "      <td>1</td>\n",
       "      <td>0</td>\n",
       "    </tr>\n",
       "    <tr>\n",
       "      <th>speechiness</th>\n",
       "      <td>0.0352</td>\n",
       "      <td>0.0298</td>\n",
       "      <td>0.0733</td>\n",
       "      <td>0.0317</td>\n",
       "      <td>0.0339</td>\n",
       "    </tr>\n",
       "    <tr>\n",
       "      <th>acousticness</th>\n",
       "      <td>0.313</td>\n",
       "      <td>0.00088</td>\n",
       "      <td>0.0029</td>\n",
       "      <td>0.171</td>\n",
       "      <td>0.58</td>\n",
       "    </tr>\n",
       "    <tr>\n",
       "      <th>instrumentalness</th>\n",
       "      <td>0.185</td>\n",
       "      <td>0.0023</td>\n",
       "      <td>0.000208</td>\n",
       "      <td>0.000377</td>\n",
       "      <td>0.0032</td>\n",
       "    </tr>\n",
       "    <tr>\n",
       "      <th>liveness</th>\n",
       "      <td>0.287</td>\n",
       "      <td>0.0504</td>\n",
       "      <td>0.297</td>\n",
       "      <td>0.0702</td>\n",
       "      <td>0.116</td>\n",
       "    </tr>\n",
       "    <tr>\n",
       "      <th>valence</th>\n",
       "      <td>0.15</td>\n",
       "      <td>0.285</td>\n",
       "      <td>0.385</td>\n",
       "      <td>0.795</td>\n",
       "      <td>0.197</td>\n",
       "    </tr>\n",
       "    <tr>\n",
       "      <th>tempo</th>\n",
       "      <td>117.292</td>\n",
       "      <td>108.789</td>\n",
       "      <td>141.466</td>\n",
       "      <td>129.981</td>\n",
       "      <td>82.433</td>\n",
       "    </tr>\n",
       "    <tr>\n",
       "      <th>time_signature</th>\n",
       "      <td>4</td>\n",
       "      <td>4</td>\n",
       "      <td>4</td>\n",
       "      <td>4</td>\n",
       "      <td>4</td>\n",
       "    </tr>\n",
       "  </tbody>\n",
       "</table>\n",
       "</div>"
      ],
      "text/plain": [
       "                                                                        0  \\\n",
       "Genre                                                                rock   \n",
       "Title                                                        Baba O'Riley   \n",
       "Album_cover_link        https://i.scdn.co/image/ab67616d0000b273fe24dc...   \n",
       "Artist                                                            The Who   \n",
       "duration_ms                                                        300400   \n",
       "explicit                                                            False   \n",
       "id                                                 3qiyyUfYe7CRYLucrPmulD   \n",
       "popularity                                                             75   \n",
       "release_date                                                   1971-08-14   \n",
       "release_date_precision                                                day   \n",
       "total_tracks                                                           29   \n",
       "danceability                                                        0.489   \n",
       "energy                                                              0.724   \n",
       "key                                                                     5   \n",
       "loudness                                                           -8.367   \n",
       "mode                                                                    1   \n",
       "speechiness                                                        0.0352   \n",
       "acousticness                                                        0.313   \n",
       "instrumentalness                                                    0.185   \n",
       "liveness                                                            0.287   \n",
       "valence                                                              0.15   \n",
       "tempo                                                             117.292   \n",
       "time_signature                                                          4   \n",
       "\n",
       "                                                                        1  \\\n",
       "Genre                                                                rock   \n",
       "Title                                                 More Than a Feeling   \n",
       "Album_cover_link        https://i.scdn.co/image/ab67616d0000b27390ef97...   \n",
       "Artist                                                             Boston   \n",
       "duration_ms                                                        285133   \n",
       "explicit                                                            False   \n",
       "id                                                 1QEEqeFIZktqIpPI4jSVSF   \n",
       "popularity                                                             78   \n",
       "release_date                                                         1976   \n",
       "release_date_precision                                               year   \n",
       "total_tracks                                                            8   \n",
       "danceability                                                        0.377   \n",
       "energy                                                              0.681   \n",
       "key                                                                     7   \n",
       "loudness                                                           -8.039   \n",
       "mode                                                                    1   \n",
       "speechiness                                                        0.0298   \n",
       "acousticness                                                      0.00088   \n",
       "instrumentalness                                                   0.0023   \n",
       "liveness                                                           0.0504   \n",
       "valence                                                             0.285   \n",
       "tempo                                                             108.789   \n",
       "time_signature                                                          4   \n",
       "\n",
       "                                                                        2  \\\n",
       "Genre                                                                rock   \n",
       "Title                                             (Don't Fear) The Reaper   \n",
       "Album_cover_link        https://i.scdn.co/image/ab67616d0000b2733ac318...   \n",
       "Artist                                                   Blue Öyster Cult   \n",
       "duration_ms                                                        308120   \n",
       "explicit                                                            False   \n",
       "id                                                 5QTxFnGygVM4jFQiBovmRo   \n",
       "popularity                                                             76   \n",
       "release_date                                                         1976   \n",
       "release_date_precision                                               year   \n",
       "total_tracks                                                           10   \n",
       "danceability                                                        0.333   \n",
       "energy                                                              0.927   \n",
       "key                                                                     9   \n",
       "loudness                                                            -8.55   \n",
       "mode                                                                    0   \n",
       "speechiness                                                        0.0733   \n",
       "acousticness                                                       0.0029   \n",
       "instrumentalness                                                 0.000208   \n",
       "liveness                                                            0.297   \n",
       "valence                                                             0.385   \n",
       "tempo                                                             141.466   \n",
       "time_signature                                                          4   \n",
       "\n",
       "                                                                        3  \\\n",
       "Genre                                                                rock   \n",
       "Title                                                Jump - 2015 Remaster   \n",
       "Album_cover_link        https://i.scdn.co/image/ab67616d0000b273b414c6...   \n",
       "Artist                                                          Van Halen   \n",
       "duration_ms                                                        241599   \n",
       "explicit                                                            False   \n",
       "id                                                 7N3PAbqfTjSEU1edb2tY8j   \n",
       "popularity                                                             78   \n",
       "release_date                                                   1984-01-04   \n",
       "release_date_precision                                                day   \n",
       "total_tracks                                                            9   \n",
       "danceability                                                        0.572   \n",
       "energy                                                              0.835   \n",
       "key                                                                     0   \n",
       "loudness                                                           -6.219   \n",
       "mode                                                                    1   \n",
       "speechiness                                                        0.0317   \n",
       "acousticness                                                        0.171   \n",
       "instrumentalness                                                 0.000377   \n",
       "liveness                                                           0.0702   \n",
       "valence                                                             0.795   \n",
       "tempo                                                             129.981   \n",
       "time_signature                                                          4   \n",
       "\n",
       "                                                                        4  \n",
       "Genre                                                                rock  \n",
       "Title                                       Stairway to Heaven - Remaster  \n",
       "Album_cover_link        https://i.scdn.co/image/ab67616d0000b273c8a11e...  \n",
       "Artist                                                       Led Zeppelin  \n",
       "duration_ms                                                        482830  \n",
       "explicit                                                            False  \n",
       "id                                                 5CQ30WqJwcep0pYcV4AMNc  \n",
       "popularity                                                             79  \n",
       "release_date                                                   1971-11-08  \n",
       "release_date_precision                                                day  \n",
       "total_tracks                                                           16  \n",
       "danceability                                                        0.338  \n",
       "energy                                                               0.34  \n",
       "key                                                                     9  \n",
       "loudness                                                          -12.049  \n",
       "mode                                                                    0  \n",
       "speechiness                                                        0.0339  \n",
       "acousticness                                                         0.58  \n",
       "instrumentalness                                                   0.0032  \n",
       "liveness                                                            0.116  \n",
       "valence                                                             0.197  \n",
       "tempo                                                              82.433  \n",
       "time_signature                                                          4  "
      ]
     },
     "execution_count": 44,
     "metadata": {},
     "output_type": "execute_result"
    }
   ],
   "source": [
    "#Check and view data in transposed form to view all columns\n",
    "data.head().T"
   ]
  },
  {
   "cell_type": "code",
   "execution_count": 45,
   "metadata": {
    "execution": {
     "iopub.execute_input": "2021-01-13T14:45:43.998399Z",
     "iopub.status.busy": "2021-01-13T14:45:43.997808Z",
     "iopub.status.idle": "2021-01-13T14:45:44.008084Z",
     "shell.execute_reply": "2021-01-13T14:45:44.008524Z"
    },
    "papermill": {
     "duration": 0.034708,
     "end_time": "2021-01-13T14:45:44.008714",
     "exception": false,
     "start_time": "2021-01-13T14:45:43.974006",
     "status": "completed"
    },
    "tags": []
   },
   "outputs": [
    {
     "data": {
      "text/plain": [
       "pop       1161\n",
       "rock      1136\n",
       "latin     1036\n",
       "hiphop     971\n",
       "edm        956\n",
       "rap        926\n",
       "r&b        731\n",
       "Name: Genre, dtype: int64"
      ]
     },
     "execution_count": 45,
     "metadata": {},
     "output_type": "execute_result"
    }
   ],
   "source": [
    "#Since we are going to predict the genre , let's check the \"genre\" column for data types\n",
    "data[\"Genre\"].value_counts()"
   ]
  },
  {
   "cell_type": "code",
   "execution_count": 46,
   "metadata": {
    "execution": {
     "iopub.execute_input": "2021-01-13T14:45:44.055059Z",
     "iopub.status.busy": "2021-01-13T14:45:44.054439Z",
     "iopub.status.idle": "2021-01-13T14:45:44.284085Z",
     "shell.execute_reply": "2021-01-13T14:45:44.283565Z"
    },
    "papermill": {
     "duration": 0.253758,
     "end_time": "2021-01-13T14:45:44.284211",
     "exception": false,
     "start_time": "2021-01-13T14:45:44.030453",
     "status": "completed"
    },
    "tags": []
   },
   "outputs": [
    {
     "data": {
      "image/png": "[encoded data removed]",
      "text/plain": [
       "<Figure size 432x288 with 1 Axes>"
      ]
     },
     "metadata": {
      "needs_background": "light"
     },
     "output_type": "display_data"
    }
   ],
   "source": [
    "#Let's plot the above date from \"genre\" columns in bar plot for better vizualization\n",
    "data[\"Genre\"].value_counts().plot(kind=\"barh\",color=[\"lightblue\"],title=\"Genres\");"
   ]
  },
  {
   "cell_type": "code",
   "execution_count": 47,
   "metadata": {
    "execution": {
     "iopub.execute_input": "2021-01-13T14:45:44.334794Z",
     "iopub.status.busy": "2021-01-13T14:45:44.334126Z",
     "iopub.status.idle": "2021-01-13T14:45:44.357557Z",
     "shell.execute_reply": "2021-01-13T14:45:44.357070Z"
    },
    "papermill": {
     "duration": 0.050722,
     "end_time": "2021-01-13T14:45:44.357701",
     "exception": false,
     "start_time": "2021-01-13T14:45:44.306979",
     "status": "completed"
    },
    "tags": []
   },
   "outputs": [
    {
     "data": {
      "text/plain": [
       "Genre                     0\n",
       "Title                     0\n",
       "Album_cover_link          0\n",
       "Artist                    0\n",
       "duration_ms               0\n",
       "explicit                  0\n",
       "id                        0\n",
       "popularity                0\n",
       "release_date              0\n",
       "release_date_precision    0\n",
       "total_tracks              0\n",
       "danceability              0\n",
       "energy                    0\n",
       "key                       0\n",
       "loudness                  0\n",
       "mode                      0\n",
       "speechiness               0\n",
       "acousticness              0\n",
       "instrumentalness          0\n",
       "liveness                  0\n",
       "valence                   0\n",
       "tempo                     0\n",
       "time_signature            0\n",
       "dtype: int64"
      ]
     },
     "execution_count": 47,
     "metadata": {},
     "output_type": "execute_result"
    }
   ],
   "source": [
    "#Let's check and see if we have missing data\n",
    "data.isna().sum()"
   ]
  },
  {
   "cell_type": "markdown",
   "metadata": {
    "papermill": {
     "duration": 0.023414,
     "end_time": "2021-01-13T14:45:44.404339",
     "exception": false,
     "start_time": "2021-01-13T14:45:44.380925",
     "status": "completed"
    },
    "tags": []
   },
   "source": [
    "As we can see above, missing values are only in last 3 columns and this will not affect our analysis of predicting genre"
   ]
  },
  {
   "cell_type": "code",
   "execution_count": 48,
   "metadata": {
    "execution": {
     "iopub.execute_input": "2021-01-13T14:45:44.456765Z",
     "iopub.status.busy": "2021-01-13T14:45:44.456166Z",
     "iopub.status.idle": "2021-01-13T14:45:44.461042Z",
     "shell.execute_reply": "2021-01-13T14:45:44.460436Z"
    },
    "papermill": {
     "duration": 0.033996,
     "end_time": "2021-01-13T14:45:44.461153",
     "exception": false,
     "start_time": "2021-01-13T14:45:44.427157",
     "status": "completed"
    },
    "tags": []
   },
   "outputs": [
    {
     "data": {
      "text/plain": [
       "Genre                      object\n",
       "Title                      object\n",
       "Album_cover_link           object\n",
       "Artist                     object\n",
       "duration_ms                 int64\n",
       "explicit                     bool\n",
       "id                         object\n",
       "popularity                  int64\n",
       "release_date               object\n",
       "release_date_precision     object\n",
       "total_tracks                int64\n",
       "danceability              float64\n",
       "energy                    float64\n",
       "key                         int64\n",
       "loudness                  float64\n",
       "mode                        int64\n",
       "speechiness               float64\n",
       "acousticness              float64\n",
       "instrumentalness          float64\n",
       "liveness                  float64\n",
       "valence                   float64\n",
       "tempo                     float64\n",
       "time_signature              int64\n",
       "dtype: object"
      ]
     },
     "execution_count": 48,
     "metadata": {},
     "output_type": "execute_result"
    }
   ],
   "source": [
    "#Finally we can check the data types in our data frame\n",
    "data.dtypes\n",
    "#Based on below we will base the prediction analysis only on numerical data"
   ]
  },
  {
   "cell_type": "code",
   "execution_count": 49,
   "metadata": {
    "execution": {
     "iopub.execute_input": "2021-01-13T14:45:44.511753Z",
     "iopub.status.busy": "2021-01-13T14:45:44.510786Z",
     "iopub.status.idle": "2021-01-13T14:45:45.447986Z",
     "shell.execute_reply": "2021-01-13T14:45:45.448472Z"
    },
    "papermill": {
     "duration": 0.963982,
     "end_time": "2021-01-13T14:45:45.448622",
     "exception": false,
     "start_time": "2021-01-13T14:45:44.484640",
     "status": "completed"
    },
    "tags": []
   },
   "outputs": [
    {
     "data": {
      "image/png": "[encoded data removed]",
      "text/plain": [
       "<Figure size 1080x720 with 2 Axes>"
      ]
     },
     "metadata": {
      "needs_background": "light"
     },
     "output_type": "display_data"
    }
   ],
   "source": [
    "#Correlation analysis using Seaborn heatmap for data analysis\n",
    "corr_matrix=data.corr()\n",
    "fig,ax=plt.subplots(figsize=(15,10))\n",
    "ax=sns.heatmap(corr_matrix,\n",
    "              annot=True,\n",
    "              linewidths=0.5,\n",
    "              fmt=\".2f\",\n",
    "              cmap=\"YlGnBu\");"
   ]
  },
  {
   "cell_type": "markdown",
   "metadata": {
    "papermill": {
     "duration": 0.026245,
     "end_time": "2021-01-13T14:45:45.501161",
     "exception": false,
     "start_time": "2021-01-13T14:45:45.474916",
     "status": "completed"
    },
    "tags": []
   },
   "source": [
    "## Modelling"
   ]
  },
  {
   "cell_type": "code",
   "execution_count": 50,
   "metadata": {
    "execution": {
     "iopub.execute_input": "2021-01-13T14:45:45.558184Z",
     "iopub.status.busy": "2021-01-13T14:45:45.557247Z",
     "iopub.status.idle": "2021-01-13T14:45:45.569214Z",
     "shell.execute_reply": "2021-01-13T14:45:45.569676Z"
    },
    "papermill": {
     "duration": 0.042397,
     "end_time": "2021-01-13T14:45:45.569819",
     "exception": false,
     "start_time": "2021-01-13T14:45:45.527422",
     "status": "completed"
    },
    "tags": []
   },
   "outputs": [],
   "source": [
    "#Split the data into X and y\n",
    "ColPasUtile = ['Genre','Title', 'Album_cover_link', 'Artist', 'duration_ms',\n",
    "       'explicit', 'id', 'popularity', 'release_date',\n",
    "       'release_date_precision', 'total_tracks','time_signature']\n",
    "\n",
    "num_data=data.drop(ColPasUtile,axis=1).values\n",
    "y = data['Genre'].values\n",
    "X = data.drop(ColPasUtile, axis=1).values\n"
   ]
  },
  {
   "cell_type": "code",
   "execution_count": 51,
   "metadata": {
    "execution": {
     "iopub.execute_input": "2021-01-13T14:45:45.626344Z",
     "iopub.status.busy": "2021-01-13T14:45:45.625388Z",
     "iopub.status.idle": "2021-01-13T14:45:45.642202Z",
     "shell.execute_reply": "2021-01-13T14:45:45.642643Z"
    },
    "papermill": {
     "duration": 0.046651,
     "end_time": "2021-01-13T14:45:45.642791",
     "exception": false,
     "start_time": "2021-01-13T14:45:45.596140",
     "status": "completed"
    },
    "tags": []
   },
   "outputs": [],
   "source": [
    "#Split into training and test sets\n",
    "X_train,X_test,y_train,y_test=train_test_split(X,y,test_size=0.2,random_state=1)"
   ]
  },
  {
   "cell_type": "markdown",
   "metadata": {
    "papermill": {
     "duration": 0.026857,
     "end_time": "2021-01-13T14:45:45.697318",
     "exception": false,
     "start_time": "2021-01-13T14:45:45.670461",
     "status": "completed"
    },
    "tags": []
   },
   "source": [
    "#### We will use 3 different models for this problem:\n",
    "    1. Logistic regression\n",
    "    2. K-Nearest\n",
    "    3. Random Forest"
   ]
  },
  {
   "cell_type": "code",
   "execution_count": 52,
   "metadata": {
    "execution": {
     "iopub.execute_input": "2021-01-13T14:45:45.754444Z",
     "iopub.status.busy": "2021-01-13T14:45:45.753506Z",
     "iopub.status.idle": "2021-01-13T14:45:45.760067Z",
     "shell.execute_reply": "2021-01-13T14:45:45.760488Z"
    },
    "papermill": {
     "duration": 0.036759,
     "end_time": "2021-01-13T14:45:45.760644",
     "exception": false,
     "start_time": "2021-01-13T14:45:45.723885",
     "status": "completed"
    },
    "tags": []
   },
   "outputs": [],
   "source": [
    "#For that we will create a fuction in order to evaluate and compare models easily\n",
    "models={\"LogReg\":LogisticRegression(),\n",
    "       \"KNN\":KNeighborsClassifier(),\n",
    "       \"Random Forest\":RandomForestClassifier()}\n",
    "def fit_and_score (models,X_train,X_test,y_train,y_test):\n",
    "    \"\"\"\n",
    "    Fits and evaluates given machine learning models\n",
    "    \"\"\"\n",
    "    np.random.seed(1)\n",
    "    model_scores={}\n",
    "    for name , model in models.items():\n",
    "        model.fit(X_train,y_train)\n",
    "        model_scores[name]=model.score(X_test,y_test)\n",
    "    return model_scores"
   ]
  },
  {
   "cell_type": "code",
   "execution_count": 53,
   "metadata": {
    "execution": {
     "iopub.execute_input": "2021-01-13T14:45:45.817869Z",
     "iopub.status.busy": "2021-01-13T14:45:45.816942Z",
     "iopub.status.idle": "2021-01-13T14:46:00.685882Z",
     "shell.execute_reply": "2021-01-13T14:46:00.685220Z"
    },
    "papermill": {
     "duration": 14.898603,
     "end_time": "2021-01-13T14:46:00.685991",
     "exception": false,
     "start_time": "2021-01-13T14:45:45.787388",
     "status": "completed"
    },
    "tags": []
   },
   "outputs": [
    {
     "name": "stderr",
     "output_type": "stream",
     "text": [
      "C:\\Users\\Julia\\AppData\\Local\\Programs\\Python\\Python310\\lib\\site-packages\\sklearn\\linear_model\\_logistic.py:814: ConvergenceWarning: lbfgs failed to converge (status=1):\n",
      "STOP: TOTAL NO. of ITERATIONS REACHED LIMIT.\n",
      "\n",
      "Increase the number of iterations (max_iter) or scale the data as shown in:\n",
      "    https://scikit-learn.org/stable/modules/preprocessing.html\n",
      "Please also refer to the documentation for alternative solver options:\n",
      "    https://scikit-learn.org/stable/modules/linear_model.html#logistic-regression\n",
      "  n_iter_i = _check_optimize_result(\n"
     ]
    },
    {
     "data": {
      "text/plain": [
       "{'LogReg': 0.36921965317919075,\n",
       " 'KNN': 0.26445086705202314,\n",
       " 'Random Forest': 0.44942196531791906}"
      ]
     },
     "execution_count": 53,
     "metadata": {},
     "output_type": "execute_result"
    }
   ],
   "source": [
    "model_scores=fit_and_score(models=models,X_train=X_train,X_test=X_test,y_train=y_train,y_test=y_test)\n",
    "model_scores"
   ]
  },
  {
   "cell_type": "markdown",
   "metadata": {
    "papermill": {
     "duration": 0.026475,
     "end_time": "2021-01-13T14:46:00.739477",
     "exception": false,
     "start_time": "2021-01-13T14:46:00.713002",
     "status": "completed"
    },
    "tags": []
   },
   "source": [
    "## Model comparison"
   ]
  },
  {
   "cell_type": "code",
   "execution_count": 54,
   "metadata": {
    "execution": {
     "iopub.execute_input": "2021-01-13T14:46:00.808578Z",
     "iopub.status.busy": "2021-01-13T14:46:00.805032Z",
     "iopub.status.idle": "2021-01-13T14:46:00.964830Z",
     "shell.execute_reply": "2021-01-13T14:46:00.965700Z"
    },
    "papermill": {
     "duration": 0.197143,
     "end_time": "2021-01-13T14:46:00.965914",
     "exception": false,
     "start_time": "2021-01-13T14:46:00.768771",
     "status": "completed"
    },
    "tags": []
   },
   "outputs": [
    {
     "data": {
      "image/png": "[encoded data removed]",
      "text/plain": [
       "<Figure size 432x288 with 1 Axes>"
      ]
     },
     "metadata": {
      "needs_background": "light"
     },
     "output_type": "display_data"
    }
   ],
   "source": [
    "model_compare=pd.DataFrame(model_scores,index=[\"Accuracy\"])\n",
    "model_compare.T.plot.barh(color=[\"lightblue\"]);"
   ]
  },
  {
   "cell_type": "markdown",
   "metadata": {
    "papermill": {
     "duration": 0.027424,
     "end_time": "2021-01-13T14:46:01.039794",
     "exception": false,
     "start_time": "2021-01-13T14:46:01.012370",
     "status": "completed"
    },
    "tags": []
   },
   "source": [
    "#### Now as we have initial Accuracy scoring of 3 models, let's look at following:\n",
    "* Hyperparameter tuning\n",
    "* Feature importance\n",
    "* Confusion matrix\n",
    "* Cross validation\n",
    "* Precision, Recall, F1 score\n",
    "* Classification report"
   ]
  },
  {
   "cell_type": "markdown",
   "metadata": {
    "papermill": {
     "duration": 0.027334,
     "end_time": "2021-01-13T14:46:01.094662",
     "exception": false,
     "start_time": "2021-01-13T14:46:01.067328",
     "status": "completed"
    },
    "tags": []
   },
   "source": [
    "## Hyperparameter tuning\n",
    "1. HP tuning by hand\n",
    "2. HP tuning with RandomizedSearchCV"
   ]
  },
  {
   "cell_type": "markdown",
   "metadata": {
    "papermill": {
     "duration": 0.02718,
     "end_time": "2021-01-13T14:46:01.149871",
     "exception": false,
     "start_time": "2021-01-13T14:46:01.122691",
     "status": "completed"
    },
    "tags": []
   },
   "source": [
    "#### Hyperparameter tuning for KNN manually"
   ]
  },
  {
   "cell_type": "code",
   "execution_count": 55,
   "metadata": {
    "execution": {
     "iopub.execute_input": "2021-01-13T14:46:01.209022Z",
     "iopub.status.busy": "2021-01-13T14:46:01.208119Z",
     "iopub.status.idle": "2021-01-13T14:46:23.808713Z",
     "shell.execute_reply": "2021-01-13T14:46:23.808160Z"
    },
    "papermill": {
     "duration": 22.631428,
     "end_time": "2021-01-13T14:46:23.808827",
     "exception": false,
     "start_time": "2021-01-13T14:46:01.177399",
     "status": "completed"
    },
    "tags": []
   },
   "outputs": [],
   "source": [
    "#Tuning for KNN model\n",
    "train_scores=[]\n",
    "test_scores=[]\n",
    "#Create list of different n-neighbors\n",
    "neighbors = range(1,15)\n",
    "#Setup KNN instance\n",
    "knn=KNeighborsClassifier()\n",
    "#Loop through different neigbors\n",
    "for i in neighbors:\n",
    "    knn.set_params(n_neighbors=i)\n",
    "    knn.fit(X_train,y_train) #Fit the model\n",
    "    train_scores.append(knn.score(X_train,y_train)) #Update the train score list\n",
    "    test_scores.append(knn.score(X_test,y_test)) #Update test scores list"
   ]
  },
  {
   "cell_type": "code",
   "execution_count": 56,
   "metadata": {
    "execution": {
     "iopub.execute_input": "2021-01-13T14:46:23.869145Z",
     "iopub.status.busy": "2021-01-13T14:46:23.868210Z",
     "iopub.status.idle": "2021-01-13T14:46:23.991918Z",
     "shell.execute_reply": "2021-01-13T14:46:23.992407Z"
    },
    "papermill": {
     "duration": 0.155407,
     "end_time": "2021-01-13T14:46:23.992544",
     "exception": false,
     "start_time": "2021-01-13T14:46:23.837137",
     "status": "completed"
    },
    "tags": []
   },
   "outputs": [
    {
     "data": {
      "image/png": "[encoded data removed]",
      "text/plain": [
       "<Figure size 432x288 with 1 Axes>"
      ]
     },
     "metadata": {
      "needs_background": "light"
     },
     "output_type": "display_data"
    }
   ],
   "source": [
    "plt.plot(neighbors,train_scores,label=\"Train scores\")\n",
    "plt.plot(neighbors,test_scores,label=\"Test scores\")\n",
    "plt.xticks(np.arange(1,15,1))\n",
    "plt.yticks(np.arange(0.1,1,0.1))\n",
    "plt.xlabel(\"Number of neighbors\")\n",
    "plt.ylabel(\"Model scores\")\n",
    "plt.legend;"
   ]
  },
  {
   "cell_type": "markdown",
   "metadata": {
    "papermill": {
     "duration": 0.02843,
     "end_time": "2021-01-13T14:46:24.049751",
     "exception": false,
     "start_time": "2021-01-13T14:46:24.021321",
     "status": "completed"
    },
    "tags": []
   },
   "source": [
    "The above chart shows that the best K-value giving higher prediction is *1* where we can see 36% accuracy level which is still low.\n",
    "Let's look for other models and see whether we can improve accuracy"
   ]
  },
  {
   "cell_type": "markdown",
   "metadata": {
    "papermill": {
     "duration": 0.028268,
     "end_time": "2021-01-13T14:46:24.106592",
     "exception": false,
     "start_time": "2021-01-13T14:46:24.078324",
     "status": "completed"
    },
    "tags": []
   },
   "source": [
    "#### Hyperparameter tuning with RandomizedSearchCV for LogReg and Random Forest models\n",
    "Let's tune LogReg and Random Forest models using RandomizedSearchCV"
   ]
  },
  {
   "cell_type": "code",
   "execution_count": 57,
   "metadata": {
    "execution": {
     "iopub.execute_input": "2021-01-13T14:46:24.170789Z",
     "iopub.status.busy": "2021-01-13T14:46:24.170035Z",
     "iopub.status.idle": "2021-01-13T14:46:24.173074Z",
     "shell.execute_reply": "2021-01-13T14:46:24.172420Z"
    },
    "papermill": {
     "duration": 0.037882,
     "end_time": "2021-01-13T14:46:24.173195",
     "exception": false,
     "start_time": "2021-01-13T14:46:24.135313",
     "status": "completed"
    },
    "tags": []
   },
   "outputs": [],
   "source": [
    "#Hyperparameter grid for Logistic Regression\n",
    "log_reg_grid={\"C\": np.logspace(-4,4,20),\n",
    "             \"solver\":[\"liblinear\"]}\n",
    "#Hyperparameter grid for Random Forest\n",
    "rf_grid={\"n_estimators\": np.arange(10,1000,50),\n",
    "         \"max_depth\":[None,3,5,10],\n",
    "         \"min_samples_split\":np.arange(2,20,2),\n",
    "         \"min_samples_leaf\":np.arange(1,20,2)}"
   ]
  },
  {
   "cell_type": "code",
   "execution_count": 58,
   "metadata": {
    "execution": {
     "iopub.execute_input": "2021-01-13T14:46:24.235087Z",
     "iopub.status.busy": "2021-01-13T14:46:24.234164Z",
     "iopub.status.idle": "2021-01-13T14:49:42.854787Z",
     "shell.execute_reply": "2021-01-13T14:49:42.853798Z"
    },
    "papermill": {
     "duration": 198.652636,
     "end_time": "2021-01-13T14:49:42.854918",
     "exception": false,
     "start_time": "2021-01-13T14:46:24.202282",
     "status": "completed"
    },
    "tags": []
   },
   "outputs": [
    {
     "name": "stdout",
     "output_type": "stream",
     "text": [
      "Fitting 5 folds for each of 20 candidates, totalling 100 fits\n"
     ]
    },
    {
     "data": {
      "text/plain": [
       "RandomizedSearchCV(cv=5, estimator=LogisticRegression(), n_iter=20,\n",
       "                   param_distributions={'C': array([1.00000000e-04, 2.63665090e-04, 6.95192796e-04, 1.83298071e-03,\n",
       "       4.83293024e-03, 1.27427499e-02, 3.35981829e-02, 8.85866790e-02,\n",
       "       2.33572147e-01, 6.15848211e-01, 1.62377674e+00, 4.28133240e+00,\n",
       "       1.12883789e+01, 2.97635144e+01, 7.84759970e+01, 2.06913808e+02,\n",
       "       5.45559478e+02, 1.43844989e+03, 3.79269019e+03, 1.00000000e+04]),\n",
       "                                        'solver': ['liblinear']},\n",
       "                   verbose=True)"
      ]
     },
     "execution_count": 58,
     "metadata": {},
     "output_type": "execute_result"
    }
   ],
   "source": [
    "#Tune LogReg model\n",
    "np.random.seed(1)\n",
    "rs_log_reg=RandomizedSearchCV(LogisticRegression(),\n",
    "                             param_distributions=log_reg_grid,\n",
    "                             cv=5,\n",
    "                             n_iter=20,\n",
    "                             verbose=True)\n",
    "#Fit random hyperparameter search model to LogReg\n",
    "rs_log_reg.fit(X_train,y_train)"
   ]
  },
  {
   "cell_type": "code",
   "execution_count": 59,
   "metadata": {
    "execution": {
     "iopub.execute_input": "2021-01-13T14:49:42.920770Z",
     "iopub.status.busy": "2021-01-13T14:49:42.919927Z",
     "iopub.status.idle": "2021-01-13T14:49:42.923446Z",
     "shell.execute_reply": "2021-01-13T14:49:42.924089Z"
    },
    "papermill": {
     "duration": 0.03899,
     "end_time": "2021-01-13T14:49:42.924244",
     "exception": false,
     "start_time": "2021-01-13T14:49:42.885254",
     "status": "completed"
    },
    "tags": []
   },
   "outputs": [
    {
     "data": {
      "text/plain": [
       "{'solver': 'liblinear', 'C': 545.5594781168514}"
      ]
     },
     "execution_count": 59,
     "metadata": {},
     "output_type": "execute_result"
    }
   ],
   "source": [
    "#Let's check the best parameters\n",
    "rs_log_reg.best_params_"
   ]
  },
  {
   "cell_type": "code",
   "execution_count": 60,
   "metadata": {
    "execution": {
     "iopub.execute_input": "2021-01-13T14:49:42.989169Z",
     "iopub.status.busy": "2021-01-13T14:49:42.988198Z",
     "iopub.status.idle": "2021-01-13T14:49:43.007455Z",
     "shell.execute_reply": "2021-01-13T14:49:43.007898Z"
    },
    "papermill": {
     "duration": 0.053259,
     "end_time": "2021-01-13T14:49:43.008049",
     "exception": false,
     "start_time": "2021-01-13T14:49:42.954790",
     "status": "completed"
    },
    "tags": []
   },
   "outputs": [
    {
     "data": {
      "text/plain": [
       "0.467485549132948"
      ]
     },
     "execution_count": 60,
     "metadata": {},
     "output_type": "execute_result"
    }
   ],
   "source": [
    "rs_log_reg.score(X_test,y_test)"
   ]
  },
  {
   "cell_type": "markdown",
   "metadata": {
    "papermill": {
     "duration": 0.030603,
     "end_time": "2021-01-13T14:49:43.069871",
     "exception": false,
     "start_time": "2021-01-13T14:49:43.039268",
     "status": "completed"
    },
    "tags": []
   },
   "source": [
    "The above score is very very small increase from initial scoring, now let's try same with Random Forest and see how it can improve the scoring"
   ]
  },
  {
   "cell_type": "code",
   "execution_count": 61,
   "metadata": {
    "execution": {
     "iopub.execute_input": "2021-01-13T14:49:43.135546Z",
     "iopub.status.busy": "2021-01-13T14:49:43.134440Z",
     "iopub.status.idle": "2021-01-13T15:22:35.452226Z",
     "shell.execute_reply": "2021-01-13T15:22:35.452729Z"
    },
    "papermill": {
     "duration": 1972.352308,
     "end_time": "2021-01-13T15:22:35.452896",
     "exception": false,
     "start_time": "2021-01-13T14:49:43.100588",
     "status": "completed"
    },
    "tags": []
   },
   "outputs": [
    {
     "name": "stdout",
     "output_type": "stream",
     "text": [
      "Fitting 5 folds for each of 20 candidates, totalling 100 fits\n"
     ]
    }
   ],
   "source": [
    "#Tune Random Forest model\n",
    "np.random.seed(42)\n",
    "rs_rf=RandomizedSearchCV(RandomForestClassifier(),\n",
    "                        param_distributions=rf_grid,\n",
    "                        n_iter=20,\n",
    "                        verbose=True)\n",
    "rs_rf.fit(X_train,y_train)"
   ]
  },
  {
   "cell_type": "code",
   "execution_count": null,
   "metadata": {
    "execution": {
     "iopub.execute_input": "2021-01-13T15:22:35.523769Z",
     "iopub.status.busy": "2021-01-13T15:22:35.522802Z",
     "iopub.status.idle": "2021-01-13T15:22:35.525944Z",
     "shell.execute_reply": "2021-01-13T15:22:35.526408Z"
    },
    "papermill": {
     "duration": 0.040753,
     "end_time": "2021-01-13T15:22:35.526545",
     "exception": false,
     "start_time": "2021-01-13T15:22:35.485792",
     "status": "completed"
    },
    "tags": []
   },
   "outputs": [
    {
     "data": {
      "text/plain": [
       "{'n_estimators': 560,\n",
       " 'min_samples_split': 12,\n",
       " 'min_samples_leaf': 9,\n",
       " 'max_depth': 10}"
      ]
     },
     "execution_count": 23,
     "metadata": {},
     "output_type": "execute_result"
    }
   ],
   "source": [
    "rs_rf.best_params_"
   ]
  },
  {
   "cell_type": "code",
   "execution_count": null,
   "metadata": {
    "execution": {
     "iopub.execute_input": "2021-01-13T15:22:35.598029Z",
     "iopub.status.busy": "2021-01-13T15:22:35.597373Z",
     "iopub.status.idle": "2021-01-13T15:22:36.641659Z",
     "shell.execute_reply": "2021-01-13T15:22:36.641038Z"
    },
    "papermill": {
     "duration": 1.082863,
     "end_time": "2021-01-13T15:22:36.641775",
     "exception": false,
     "start_time": "2021-01-13T15:22:35.558912",
     "status": "completed"
    },
    "tags": []
   },
   "outputs": [
    {
     "data": {
      "text/plain": [
       "0.48988439306358383"
      ]
     },
     "execution_count": 24,
     "metadata": {},
     "output_type": "execute_result"
    }
   ],
   "source": [
    "rs_rf.score(X_test,y_test)"
   ]
  },
  {
   "cell_type": "markdown",
   "metadata": {
    "papermill": {
     "duration": 0.032701,
     "end_time": "2021-01-13T15:22:36.707186",
     "exception": false,
     "start_time": "2021-01-13T15:22:36.674485",
     "status": "completed"
    },
    "tags": []
   },
   "source": [
    "### Evaluating tuned machine learning classifier , beyond accuracy\n",
    "\n",
    "* Comparison of real and predicted results\n",
    "* Classification report\n",
    "* Precision\n",
    "* Recall\n",
    "* F1 score\n",
    "\n",
    "Since Random Forest tuned model give the best results, going further we will evaluate only that model"
   ]
  },
  {
   "cell_type": "code",
   "execution_count": null,
   "metadata": {
    "execution": {
     "iopub.execute_input": "2021-01-13T15:22:36.780215Z",
     "iopub.status.busy": "2021-01-13T15:22:36.779616Z",
     "iopub.status.idle": "2021-01-13T15:22:37.813497Z",
     "shell.execute_reply": "2021-01-13T15:22:37.813984Z"
    },
    "papermill": {
     "duration": 1.073416,
     "end_time": "2021-01-13T15:22:37.814140",
     "exception": false,
     "start_time": "2021-01-13T15:22:36.740724",
     "status": "completed"
    },
    "tags": []
   },
   "outputs": [
    {
     "data": {
      "text/html": [
       "<div>\n",
       "<style scoped>\n",
       "    .dataframe tbody tr th:only-of-type {\n",
       "        vertical-align: middle;\n",
       "    }\n",
       "\n",
       "    .dataframe tbody tr th {\n",
       "        vertical-align: top;\n",
       "    }\n",
       "\n",
       "    .dataframe thead th {\n",
       "        text-align: right;\n",
       "    }\n",
       "</style>\n",
       "<table border=\"1\" class=\"dataframe\">\n",
       "  <thead>\n",
       "    <tr style=\"text-align: right;\">\n",
       "      <th></th>\n",
       "      <th>0</th>\n",
       "    </tr>\n",
       "  </thead>\n",
       "  <tbody>\n",
       "    <tr>\n",
       "      <th>0</th>\n",
       "      <td>latin</td>\n",
       "    </tr>\n",
       "    <tr>\n",
       "      <th>1</th>\n",
       "      <td>hiphop</td>\n",
       "    </tr>\n",
       "    <tr>\n",
       "      <th>2</th>\n",
       "      <td>hiphop</td>\n",
       "    </tr>\n",
       "    <tr>\n",
       "      <th>3</th>\n",
       "      <td>rap</td>\n",
       "    </tr>\n",
       "    <tr>\n",
       "      <th>4</th>\n",
       "      <td>rap</td>\n",
       "    </tr>\n",
       "  </tbody>\n",
       "</table>\n",
       "</div>"
      ],
      "text/plain": [
       "        0\n",
       "0   latin\n",
       "1  hiphop\n",
       "2  hiphop\n",
       "3     rap\n",
       "4     rap"
      ]
     },
     "execution_count": 25,
     "metadata": {},
     "output_type": "execute_result"
    }
   ],
   "source": [
    "#Make predictions with tuned model\n",
    "y_preds=rs_rf.predict(X_test)\n",
    "preds_df=pd.DataFrame(y_preds)\n",
    "preds_df.head()"
   ]
  },
  {
   "cell_type": "code",
   "execution_count": null,
   "metadata": {
    "execution": {
     "iopub.execute_input": "2021-01-13T15:22:37.890489Z",
     "iopub.status.busy": "2021-01-13T15:22:37.889873Z",
     "iopub.status.idle": "2021-01-13T15:22:37.893952Z",
     "shell.execute_reply": "2021-01-13T15:22:37.894343Z"
    },
    "papermill": {
     "duration": 0.047319,
     "end_time": "2021-01-13T15:22:37.894478",
     "exception": false,
     "start_time": "2021-01-13T15:22:37.847159",
     "status": "completed"
    },
    "tags": []
   },
   "outputs": [
    {
     "data": {
      "text/html": [
       "<div>\n",
       "<style scoped>\n",
       "    .dataframe tbody tr th:only-of-type {\n",
       "        vertical-align: middle;\n",
       "    }\n",
       "\n",
       "    .dataframe tbody tr th {\n",
       "        vertical-align: top;\n",
       "    }\n",
       "\n",
       "    .dataframe thead th {\n",
       "        text-align: right;\n",
       "    }\n",
       "</style>\n",
       "<table border=\"1\" class=\"dataframe\">\n",
       "  <thead>\n",
       "    <tr style=\"text-align: right;\">\n",
       "      <th></th>\n",
       "      <th>actual</th>\n",
       "      <th>prediction</th>\n",
       "    </tr>\n",
       "  </thead>\n",
       "  <tbody>\n",
       "    <tr>\n",
       "      <th>0</th>\n",
       "      <td>latin</td>\n",
       "      <td>latin</td>\n",
       "    </tr>\n",
       "    <tr>\n",
       "      <th>1</th>\n",
       "      <td>hiphop</td>\n",
       "      <td>rap</td>\n",
       "    </tr>\n",
       "    <tr>\n",
       "      <th>2</th>\n",
       "      <td>hiphop</td>\n",
       "      <td>rap</td>\n",
       "    </tr>\n",
       "    <tr>\n",
       "      <th>3</th>\n",
       "      <td>rap</td>\n",
       "      <td>hiphop</td>\n",
       "    </tr>\n",
       "    <tr>\n",
       "      <th>4</th>\n",
       "      <td>rap</td>\n",
       "      <td>rap</td>\n",
       "    </tr>\n",
       "  </tbody>\n",
       "</table>\n",
       "</div>"
      ],
      "text/plain": [
       "   actual prediction\n",
       "0   latin      latin\n",
       "1  hiphop        rap\n",
       "2  hiphop        rap\n",
       "3     rap     hiphop\n",
       "4     rap        rap"
      ]
     },
     "execution_count": 26,
     "metadata": {},
     "output_type": "execute_result"
    }
   ],
   "source": [
    "#Check actual vs predictions\n",
    "comparison=pd.DataFrame(data={\"actual\":y_preds,\"prediction\":y_test})\n",
    "comparison.head()"
   ]
  },
  {
   "cell_type": "code",
   "execution_count": null,
   "metadata": {
    "execution": {
     "iopub.execute_input": "2021-01-13T15:22:37.969537Z",
     "iopub.status.busy": "2021-01-13T15:22:37.968922Z",
     "iopub.status.idle": "2021-01-13T15:22:38.099861Z",
     "shell.execute_reply": "2021-01-13T15:22:38.099200Z"
    },
    "papermill": {
     "duration": 0.171883,
     "end_time": "2021-01-13T15:22:38.100022",
     "exception": false,
     "start_time": "2021-01-13T15:22:37.928139",
     "status": "completed"
    },
    "tags": []
   },
   "outputs": [
    {
     "data": {
      "image/png": "[encoded data removed]",
      "text/plain": [
       "<Figure size 432x288 with 1 Axes>"
      ]
     },
     "metadata": {
      "needs_background": "light"
     },
     "output_type": "display_data"
    }
   ],
   "source": [
    "#Calculate number of true and false predictions\n",
    "comparison[\"result\"]=comparison[\"actual\"]==comparison[\"prediction\"]\n",
    "comparison[\"result\"].value_counts().plot(kind=\"barh\",color=[\"lightblue\"],title=\"Comparison\");"
   ]
  },
  {
   "cell_type": "markdown",
   "metadata": {
    "papermill": {
     "duration": 0.041867,
     "end_time": "2021-01-13T15:22:38.180835",
     "exception": false,
     "start_time": "2021-01-13T15:22:38.138968",
     "status": "completed"
    },
    "tags": []
   },
   "source": [
    "#### Classification report for Precision, F1 Score and Recall"
   ]
  },
  {
   "cell_type": "code",
   "execution_count": null,
   "metadata": {
    "execution": {
     "iopub.execute_input": "2021-01-13T15:22:38.333714Z",
     "iopub.status.busy": "2021-01-13T15:22:38.325291Z",
     "iopub.status.idle": "2021-01-13T15:22:38.503966Z",
     "shell.execute_reply": "2021-01-13T15:22:38.503468Z"
    },
    "papermill": {
     "duration": 0.287384,
     "end_time": "2021-01-13T15:22:38.504080",
     "exception": false,
     "start_time": "2021-01-13T15:22:38.216696",
     "status": "completed"
    },
    "tags": []
   },
   "outputs": [
    {
     "name": "stdout",
     "output_type": "stream",
     "text": [
      "              precision    recall  f1-score   support\n",
      "\n",
      "         edm       0.69      0.65      0.67       196\n",
      "      hiphop       0.38      0.43      0.41       210\n",
      "       latin       0.60      0.56      0.58       216\n",
      "         pop       0.39      0.47      0.42       231\n",
      "         r&b       0.30      0.19      0.23       132\n",
      "         rap       0.37      0.29      0.33       198\n",
      "        rock       0.63      0.74      0.68       201\n",
      "\n",
      "    accuracy                           0.49      1384\n",
      "   macro avg       0.48      0.48      0.47      1384\n",
      "weighted avg       0.49      0.49      0.48      1384\n",
      "\n"
     ]
    }
   ],
   "source": [
    "#Classification report for precision, recall, f1score and accuracy\n",
    "print(classification_report(y_test,y_preds))"
   ]
  },
  {
   "cell_type": "markdown",
   "metadata": {
    "papermill": {
     "duration": 0.035265,
     "end_time": "2021-01-13T15:22:38.574468",
     "exception": false,
     "start_time": "2021-01-13T15:22:38.539203",
     "status": "completed"
    },
    "tags": []
   },
   "source": [
    "#### Feature importance\n",
    "Checking with features contributed most to the outcome"
   ]
  },
  {
   "cell_type": "code",
   "execution_count": null,
   "metadata": {
    "execution": {
     "iopub.execute_input": "2021-01-13T15:22:38.650109Z",
     "iopub.status.busy": "2021-01-13T15:22:38.649488Z",
     "iopub.status.idle": "2021-01-13T15:23:17.240758Z",
     "shell.execute_reply": "2021-01-13T15:23:17.241230Z"
    },
    "papermill": {
     "duration": 38.632304,
     "end_time": "2021-01-13T15:23:17.241374",
     "exception": false,
     "start_time": "2021-01-13T15:22:38.609070",
     "status": "completed"
    },
    "tags": []
   },
   "outputs": [
    {
     "data": {
      "text/plain": [
       "RandomForestClassifier(min_samples_leaf=9, min_samples_split=6,\n",
       "                       n_estimators=460)"
      ]
     },
     "execution_count": 29,
     "metadata": {},
     "output_type": "execute_result"
    }
   ],
   "source": [
    "feat=RandomForestClassifier(n_estimators= 460,       #Using best params obtained earlier\n",
    "                            min_samples_split= 6,\n",
    "                            min_samples_leaf= 9,\n",
    "                            max_depth= None)\n",
    "feat.fit(X_train,y_train)"
   ]
  },
  {
   "cell_type": "code",
   "execution_count": null,
   "metadata": {
    "execution": {
     "iopub.execute_input": "2021-01-13T15:23:17.315449Z",
     "iopub.status.busy": "2021-01-13T15:23:17.314849Z",
     "iopub.status.idle": "2021-01-13T15:23:17.371900Z",
     "shell.execute_reply": "2021-01-13T15:23:17.371360Z"
    },
    "papermill": {
     "duration": 0.096007,
     "end_time": "2021-01-13T15:23:17.372023",
     "exception": false,
     "start_time": "2021-01-13T15:23:17.276016",
     "status": "completed"
    },
    "tags": []
   },
   "outputs": [
    {
     "data": {
      "text/plain": [
       "array([0.16117013, 0.09608348, 0.02018438, 0.08789834, 0.01083887,\n",
       "       0.18195414, 0.10201793, 0.09448188, 0.03384486, 0.11764056,\n",
       "       0.09388543])"
      ]
     },
     "execution_count": 30,
     "metadata": {},
     "output_type": "execute_result"
    }
   ],
   "source": [
    "feat.feature_importances_"
   ]
  },
  {
   "cell_type": "code",
   "execution_count": null,
   "metadata": {
    "execution": {
     "iopub.execute_input": "2021-01-13T15:23:17.448847Z",
     "iopub.status.busy": "2021-01-13T15:23:17.448222Z",
     "iopub.status.idle": "2021-01-13T15:23:17.654309Z",
     "shell.execute_reply": "2021-01-13T15:23:17.653830Z"
    },
    "papermill": {
     "duration": 0.247172,
     "end_time": "2021-01-13T15:23:17.654417",
     "exception": false,
     "start_time": "2021-01-13T15:23:17.407245",
     "status": "completed"
    },
    "tags": []
   },
   "outputs": [
    {
     "ename": "NameError",
     "evalue": "name 'num_data' is not defined",
     "output_type": "error",
     "traceback": [
      "\u001b[1;31m---------------------------------------------------------------------------\u001b[0m",
      "\u001b[1;31mNameError\u001b[0m                                 Traceback (most recent call last)",
      "\u001b[1;32m~\\AppData\\Local\\Temp/ipykernel_5916/3853463124.py\u001b[0m in \u001b[0;36m<module>\u001b[1;34m\u001b[0m\n\u001b[0;32m      1\u001b[0m \u001b[1;31m#Match coefficients of features to columns\u001b[0m\u001b[1;33m\u001b[0m\u001b[1;33m\u001b[0m\u001b[0m\n\u001b[1;32m----> 2\u001b[1;33m \u001b[0mfeature_dict\u001b[0m\u001b[1;33m=\u001b[0m\u001b[0mdict\u001b[0m\u001b[1;33m(\u001b[0m\u001b[0mzip\u001b[0m\u001b[1;33m(\u001b[0m\u001b[0mnum_data\u001b[0m\u001b[1;33m.\u001b[0m\u001b[0mcolumns\u001b[0m\u001b[1;33m,\u001b[0m\u001b[0mlist\u001b[0m\u001b[1;33m(\u001b[0m\u001b[0mfeat\u001b[0m\u001b[1;33m.\u001b[0m\u001b[0mfeature_importances_\u001b[0m\u001b[1;33m)\u001b[0m\u001b[1;33m)\u001b[0m\u001b[1;33m)\u001b[0m\u001b[1;33m\u001b[0m\u001b[1;33m\u001b[0m\u001b[0m\n\u001b[0m\u001b[0;32m      3\u001b[0m \u001b[1;31m#Vizualize the feature importance\u001b[0m\u001b[1;33m\u001b[0m\u001b[1;33m\u001b[0m\u001b[0m\n\u001b[0;32m      4\u001b[0m \u001b[0mfeature_data\u001b[0m\u001b[1;33m=\u001b[0m\u001b[0mpd\u001b[0m\u001b[1;33m.\u001b[0m\u001b[0mDataFrame\u001b[0m\u001b[1;33m(\u001b[0m\u001b[0mfeature_dict\u001b[0m\u001b[1;33m,\u001b[0m\u001b[0mindex\u001b[0m\u001b[1;33m=\u001b[0m\u001b[1;33m[\u001b[0m\u001b[1;36m0\u001b[0m\u001b[1;33m]\u001b[0m\u001b[1;33m)\u001b[0m\u001b[1;33m\u001b[0m\u001b[1;33m\u001b[0m\u001b[0m\n\u001b[0;32m      5\u001b[0m \u001b[0mfeature_data\u001b[0m\u001b[1;33m.\u001b[0m\u001b[0mT\u001b[0m\u001b[1;33m.\u001b[0m\u001b[0mplot\u001b[0m\u001b[1;33m.\u001b[0m\u001b[0mbarh\u001b[0m\u001b[1;33m(\u001b[0m\u001b[0mtitle\u001b[0m\u001b[1;33m=\u001b[0m\u001b[1;34m\"Feature importance\"\u001b[0m\u001b[1;33m,\u001b[0m\u001b[0mlegend\u001b[0m\u001b[1;33m=\u001b[0m\u001b[1;32mFalse\u001b[0m\u001b[1;33m,\u001b[0m\u001b[0mcolor\u001b[0m\u001b[1;33m=\u001b[0m\u001b[1;34m\"lightblue\"\u001b[0m\u001b[1;33m,\u001b[0m\u001b[0mgrid\u001b[0m\u001b[1;33m=\u001b[0m\u001b[1;32mFalse\u001b[0m\u001b[1;33m)\u001b[0m\u001b[1;33m;\u001b[0m\u001b[1;33m\u001b[0m\u001b[1;33m\u001b[0m\u001b[0m\n",
      "\u001b[1;31mNameError\u001b[0m: name 'num_data' is not defined"
     ]
    }
   ],
   "source": [
    "#Match coefficients of features to columns\n",
    "feature_dict=dict(zip(num_data.columns,list(feat.feature_importances_))).values\n",
    "#Vizualize the feature importance\n",
    "feature_data=pd.DataFrame(feature_dict,index=[0])\n",
    "feature_data.T.plot.barh(title=\"Feature importance\",legend=False,color=\"lightblue\",grid=False);"
   ]
  },
  {
   "cell_type": "code",
   "execution_count": null,
   "metadata": {
    "papermill": {
     "duration": 0.036235,
     "end_time": "2021-01-13T15:23:17.726489",
     "exception": false,
     "start_time": "2021-01-13T15:23:17.690254",
     "status": "completed"
    },
    "tags": []
   },
   "outputs": [],
   "source": []
  }
 ],
 "metadata": {
  "kernelspec": {
   "display_name": "Python 3",
   "language": "python",
   "name": "python3"
  },
  "language_info": {
   "codemirror_mode": {
    "name": "ipython",
    "version": 3
   },
   "file_extension": ".py",
   "mimetype": "text/x-python",
   "name": "python",
   "nbconvert_exporter": "python",
   "pygments_lexer": "ipython3",
   "version": "3.10.1"
  },
  "papermill": {
   "duration": 2260.296029,
   "end_time": "2021-01-13T15:23:17.869961",
   "environment_variables": {},
   "exception": null,
   "input_path": "__notebook__.ipynb",
   "output_path": "__notebook__.ipynb",
   "parameters": {},
   "start_time": "2021-01-13T14:45:37.573932",
   "version": "2.1.0"
  }
 },
 "nbformat": 4,
 "nbformat_minor": 4
}
