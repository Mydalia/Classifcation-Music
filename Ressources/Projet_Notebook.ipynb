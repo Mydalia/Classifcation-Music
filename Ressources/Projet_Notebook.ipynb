{
 "cells": [
  {
   "cell_type": "markdown",
   "metadata": {},
   "source": [
    "<div style=\"text-align: right\"> Projet Machine Learning <br/> Julia Locatelli <br/> Jonathan Yuste</div>"
   ]
  },
  {
   "cell_type": "markdown",
   "metadata": {},
   "source": [
    "<h1><center>Projet Machine Learning: <br/> Classification d'un genre de musique</center></h1>\n",
    "<br/>\n",
    "<div class='text-danger'><center> Objectif : Déterminer le genre d'une musique</center></div>"
   ]
  },
  {
   "cell_type": "markdown",
   "metadata": {},
   "source": [
    "## L'objectif du projet\n",
    "Nous devons utiliser nos connaissances acquises en cours afin de :\n",
    "* Utiliser le Machine Learning,\n",
    "* Prédire/Résoudre un problème choisi.\n",
    "\n",
    "Dans notre cas, nous avons sélectionné le dataset \"Spotify Genre Audio Features\". Le but est de déterminer le genre d'une musique grâce à plusieurs caractéristiques."
   ]
  },
  {
   "cell_type": "markdown",
   "metadata": {},
   "source": [
    "Il faut tout d'abord importer plusieurs bibliothèques pour notre projet."
   ]
  },
  {
   "cell_type": "code",
   "execution_count": 1,
   "metadata": {},
   "outputs": [],
   "source": [
    "import numpy as np\n",
    "import matplotlib.pyplot as plt\n",
    "import pandas as pd\n",
    "import sklearn\n",
    "from sklearn.model_selection import train_test_split\n",
    "from sklearn.linear_model import LogisticRegression"
   ]
  },
  {
   "cell_type": "markdown",
   "metadata": {},
   "source": [
    "## Initialisation du dataset"
   ]
  },
  {
   "cell_type": "markdown",
   "metadata": {},
   "source": [
    "Étant donné que nous avons téléchargé un dataset, il faut que nous puissions l'importer et le lire.\n",
    "Pour cela nous utilisons \"pandas\" afin de lire notre document excel."
   ]
  },
  {
   "cell_type": "code",
   "execution_count": 2,
   "metadata": {},
   "outputs": [
    {
     "name": "stdout",
     "output_type": "stream",
     "text": [
      "  Genre                          Title  \\\n",
      "0  rock                   Baba O'Riley   \n",
      "1  rock            More Than a Feeling   \n",
      "2  rock        (Don't Fear) The Reaper   \n",
      "3  rock           Jump - 2015 Remaster   \n",
      "4  rock  Stairway to Heaven - Remaster   \n",
      "\n",
      "                                    Album_cover_link            Artist  \\\n",
      "0  https://i.scdn.co/image/ab67616d0000b273fe24dc...           The Who   \n",
      "1  https://i.scdn.co/image/ab67616d0000b27390ef97...            Boston   \n",
      "2  https://i.scdn.co/image/ab67616d0000b2733ac318...  Blue Öyster Cult   \n",
      "3  https://i.scdn.co/image/ab67616d0000b273b414c6...         Van Halen   \n",
      "4  https://i.scdn.co/image/ab67616d0000b273c8a11e...      Led Zeppelin   \n",
      "\n",
      "   duration_ms  explicit                      id  popularity release_date  \\\n",
      "0       300400     False  3qiyyUfYe7CRYLucrPmulD          75   1971-08-14   \n",
      "1       285133     False  1QEEqeFIZktqIpPI4jSVSF          78         1976   \n",
      "2       308120     False  5QTxFnGygVM4jFQiBovmRo          76         1976   \n",
      "3       241599     False  7N3PAbqfTjSEU1edb2tY8j          78   1984-01-04   \n",
      "4       482830     False  5CQ30WqJwcep0pYcV4AMNc          79   1971-11-08   \n",
      "\n",
      "  release_date_precision  ...  key  loudness  mode  speechiness  acousticness  \\\n",
      "0                    day  ...    5    -8.367     1       0.0352       0.31300   \n",
      "1                   year  ...    7    -8.039     1       0.0298       0.00088   \n",
      "2                   year  ...    9    -8.550     0       0.0733       0.00290   \n",
      "3                    day  ...    0    -6.219     1       0.0317       0.17100   \n",
      "4                    day  ...    9   -12.049     0       0.0339       0.58000   \n",
      "\n",
      "   instrumentalness  liveness  valence    tempo  time_signature  \n",
      "0          0.185000    0.2870    0.150  117.292               4  \n",
      "1          0.002300    0.0504    0.285  108.789               4  \n",
      "2          0.000208    0.2970    0.385  141.466               4  \n",
      "3          0.000377    0.0702    0.795  129.981               4  \n",
      "4          0.003200    0.1160    0.197   82.433               4  \n",
      "\n",
      "[5 rows x 23 columns]\n",
      "Index(['Genre', 'Title', 'Album_cover_link', 'Artist', 'duration_ms',\n",
      "       'explicit', 'id', 'popularity', 'release_date',\n",
      "       'release_date_precision', 'total_tracks', 'danceability', 'energy',\n",
      "       'key', 'loudness', 'mode', 'speechiness', 'acousticness',\n",
      "       'instrumentalness', 'liveness', 'valence', 'tempo', 'time_signature'],\n",
      "      dtype='object')\n"
     ]
    }
   ],
   "source": [
    "tracks = pd.read_excel(\"spotify_genre_final.xlsx\")\n",
    "\n",
    "print(tracks.head())\n",
    "print(tracks.columns)"
   ]
  },
  {
   "cell_type": "markdown",
   "metadata": {},
   "source": [
    "Dans ce document, nous n'avons pas besoin de toutes les colonnes pour définir le genre d'une musique.\n",
    "C'est pour cela que nous allons en ignorer certaines."
   ]
  },
  {
   "cell_type": "code",
   "execution_count": 3,
   "metadata": {},
   "outputs": [
    {
     "name": "stdout",
     "output_type": "stream",
     "text": [
      "['rock' 'rock' 'rock' ... 'r&b' 'r&b' 'r&b']\n",
      "[[4.89000e-01 7.24000e-01 5.00000e+00 ... 2.87000e-01 1.50000e-01\n",
      "  1.17292e+02]\n",
      " [3.77000e-01 6.81000e-01 7.00000e+00 ... 5.04000e-02 2.85000e-01\n",
      "  1.08789e+02]\n",
      " [3.33000e-01 9.27000e-01 9.00000e+00 ... 2.97000e-01 3.85000e-01\n",
      "  1.41466e+02]\n",
      " ...\n",
      " [5.07000e-01 8.32000e-01 9.00000e+00 ... 1.64000e-01 5.78000e-01\n",
      "  8.49170e+01]\n",
      " [8.50000e-01 7.00000e-01 8.00000e+00 ... 6.16000e-02 7.40000e-01\n",
      "  1.39980e+02]\n",
      " [5.28000e-01 3.49000e-01 0.00000e+00 ... 1.75000e-01 1.95000e-01\n",
      "  8.93470e+01]]\n"
     ]
    }
   ],
   "source": [
    "ColPasUtile = ['Genre','Title', 'Album_cover_link', 'Artist', 'duration_ms',\n",
    "       'explicit', 'id', 'popularity', 'release_date',\n",
    "       'release_date_precision', 'total_tracks','time_signature']\n",
    "\n",
    "y = tracks['Genre'].values\n",
    "X = tracks.drop(ColPasUtile, axis=1).values\n",
    "\n",
    "print(y)\n",
    "print(X)"
   ]
  },
  {
   "cell_type": "markdown",
   "metadata": {},
   "source": [
    "## Supervised Learning : Classification"
   ]
  },
  {
   "cell_type": "markdown",
   "metadata": {},
   "source": [
    "Dans notre projet nous devons faire une classification linéaire car nous avons des caractéristiques fixes.\n",
    "\n",
    "Nous définissons dans un premier temps ce qui va nous permettre de train et de tester."
   ]
  },
  {
   "cell_type": "code",
   "execution_count": 4,
   "metadata": {},
   "outputs": [
    {
     "name": "stdout",
     "output_type": "stream",
     "text": [
      "X_train shape: (5533, 11)\n",
      "y_train shape: (5533,)\n",
      "X_test shape: (1384, 11)\n",
      "y_test shape: (1384,)\n"
     ]
    }
   ],
   "source": [
    "X_train, X_test, y_train, y_test = train_test_split(X, y, random_state = 0, test_size = 0.2)\n",
    "\n",
    "print(\"X_train shape: {}\".format(X_train.shape))\n",
    "print(\"y_train shape: {}\".format(y_train.shape))\n",
    "print(\"X_test shape: {}\".format(X_test.shape))\n",
    "print(\"y_test shape: {}\".format(y_test.shape))"
   ]
  },
  {
   "cell_type": "code",
   "execution_count": 5,
   "metadata": {},
   "outputs": [
    {
     "name": "stdout",
     "output_type": "stream",
     "text": [
      "intercept: [ 0.32425753  0.35464957 -0.02141149  0.40778784 -0.12847997  0.02321762\n",
      " -0.96002109]\n",
      "weights:   [[-0.08381727  0.96746954  0.01476265  0.27551843 -0.78581669 -0.43357393\n",
      "  -0.90301375  1.47106488  0.19760608 -1.87546241  0.01666389]\n",
      " [ 1.37139446  0.59643098 -0.02250773 -0.09823317 -0.42625518  1.48831838\n",
      "  -0.70038149 -0.21279324  0.42210989  1.12519393 -0.02195792]\n",
      " [ 0.65855322  0.06239343 -0.02287271  0.15805975  0.82996375 -0.47716506\n",
      "   1.63585924 -0.48810183 -0.16948999  2.07510806 -0.00788554]\n",
      " [-0.01949103 -0.89620735  0.03776111  0.07515409  1.08068249 -0.50159685\n",
      "   1.31950911 -0.38872861 -0.3316329  -0.86632227  0.00422126]\n",
      " [-0.01140463 -0.93342888 -0.0182703  -0.13263812 -1.16582516 -0.15633831\n",
      "   0.36302216 -0.32098405 -0.25815751 -0.2055438   0.0040473 ]\n",
      " [ 1.23009354 -0.31036204 -0.0292423  -0.05519834 -0.47129862  1.17275519\n",
      "  -0.68535159 -0.40050044  0.22407421 -0.04592352 -0.00328179]\n",
      " [-3.14532829  0.51370431  0.04036928 -0.22266264  0.9385494  -1.09239943\n",
      "  -1.02964369  0.34004331 -0.08450978 -0.20704999  0.00819279]]\n"
     ]
    },
    {
     "name": "stderr",
     "output_type": "stream",
     "text": [
      "C:\\Users\\Julia\\AppData\\Local\\Programs\\Python\\Python310\\lib\\site-packages\\sklearn\\linear_model\\_logistic.py:814: ConvergenceWarning: lbfgs failed to converge (status=1):\n",
      "STOP: TOTAL NO. of ITERATIONS REACHED LIMIT.\n",
      "\n",
      "Increase the number of iterations (max_iter) or scale the data as shown in:\n",
      "    https://scikit-learn.org/stable/modules/preprocessing.html\n",
      "Please also refer to the documentation for alternative solver options:\n",
      "    https://scikit-learn.org/stable/modules/linear_model.html#logistic-regression\n",
      "  n_iter_i = _check_optimize_result(\n"
     ]
    }
   ],
   "source": [
    "#multinomial car nous avons plusieurs classes dans notre dataset\n",
    "clf_lr = LogisticRegression(multi_class= 'multinomial', solver='lbfgs')\n",
    "\n",
    "clf_lr.fit(X_train, y_train) \n",
    "\n",
    "print(\"intercept: {}\".format(clf_lr.intercept_))\n",
    "print(\"weights:   {}\".format(clf_lr.coef_))"
   ]
  },
  {
   "cell_type": "code",
   "execution_count": 6,
   "metadata": {},
   "outputs": [
    {
     "name": "stdout",
     "output_type": "stream",
     "text": [
      "Training set score: 0.39 \n",
      "Test set score: 0.35 \n"
     ]
    }
   ],
   "source": [
    "t = X_test[:1,:] # build array only containing the first example from test using slicing\n",
    "pred = clf_lr.predict(t) # predict() requires n-dimensional array\n",
    "pred_pr = clf_lr.predict_proba(t) \n",
    "\n",
    "t_pred = pred[0]\n",
    "t_pred_pr = pred_pr[0]\n",
    "#print(\"Prediction: {}, probability: {}\".format(t_pred,t_pred_pr[t_pred]))\n",
    "\n",
    "train_score = clf_lr.score(X_train,y_train)\n",
    "test_score = clf_lr.score(X_test,y_test)\n",
    "\n",
    "print(\"Training set score: {:.2f} \".format(train_score))\n",
    "print(\"Test set score: {:.2f} \".format(test_score))"
   ]
  },
  {
   "cell_type": "markdown",
   "metadata": {},
   "source": [
    "# Sources :"
   ]
  },
  {
   "cell_type": "markdown",
   "metadata": {},
   "source": [
    "https://www.kaggle.com/naoh1092/spotify-genre-audio-features"
   ]
  }
 ],
 "metadata": {
  "kernelspec": {
   "display_name": "Python 3 (ipykernel)",
   "language": "python",
   "name": "python3"
  },
  "language_info": {
   "codemirror_mode": {
    "name": "ipython",
    "version": 3
   },
   "file_extension": ".py",
   "mimetype": "text/x-python",
   "name": "python",
   "nbconvert_exporter": "python",
   "pygments_lexer": "ipython3",
   "version": "3.10.1"
  }
 },
 "nbformat": 4,
 "nbformat_minor": 4
}
